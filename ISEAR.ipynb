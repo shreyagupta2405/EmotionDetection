{
  "nbformat": 4,
  "nbformat_minor": 0,
  "metadata": {
    "colab": {
      "provenance": [],
      "include_colab_link": true
    },
    "kernelspec": {
      "name": "python3",
      "display_name": "Python 3"
    },
    "language_info": {
      "name": "python"
    }
  },
  "cells": [
    {
      "cell_type": "markdown",
      "metadata": {
        "id": "view-in-github",
        "colab_type": "text"
      },
      "source": [
        "<a href=\"https://colab.research.google.com/github/shreyagupta2405/EmotionDetection/blob/main/ISEAR.ipynb\" target=\"_parent\"><img src=\"https://colab.research.google.com/assets/colab-badge.svg\" alt=\"Open In Colab\"/></a>"
      ]
    },
    {
      "cell_type": "code",
      "source": [
        "import pandas as pd\n",
        "import numpy as np\n",
        "import os\n",
        "import cv2\n",
        "import zipfile\n",
        "from PIL import Image\n",
        "from pathlib import Path"
      ],
      "metadata": {
        "id": "__wPfZTaMz16"
      },
      "execution_count": null,
      "outputs": []
    },
    {
      "cell_type": "code",
      "source": [
        "ISEARDataset = pd.read_csv(\"/content/ISEAR_Dataset.csv\")"
      ],
      "metadata": {
        "id": "WgPz6HXlNI2b"
      },
      "execution_count": null,
      "outputs": []
    },
    {
      "cell_type": "markdown",
      "metadata": {
        "id": "LtFZlmy2vdTs"
      },
      "source": [
        "## **Preprocessing**"
      ]
    },
    {
      "cell_type": "code",
      "execution_count": null,
      "metadata": {
        "id": "NXU2bCBISpyG"
      },
      "outputs": [],
      "source": [
        "import re\n",
        "\n",
        "ISEARText = ISEARDataset['content']\n",
        "\n",
        "def preprocess_text(text):\n",
        "\n",
        "    text = re.sub(r'http\\S+', '', text)\n",
        "    text = re.sub(r'@[A-Za-z0-9_]+', '', text)\n",
        "    text = re.sub(r'[^A-Za-z0-9\\s]+', '', text)\n",
        "    text = ' '.join(text.split())\n",
        "    text = text.lower()\n",
        "\n",
        "    return text\n",
        "\n",
        "processedText = []\n",
        "\n",
        "for txt in ISEARText:\n",
        "  preprocessed_text = preprocess_text(txt)\n",
        "  processedText.append(preprocessed_text)"
      ]
    },
    {
      "cell_type": "code",
      "execution_count": null,
      "metadata": {
        "id": "X7QQb6gSeKXJ",
        "colab": {
          "base_uri": "https://localhost:8080/"
        },
        "outputId": "72a0a66d-6975-44dc-ee0b-fd34351e9ddb"
      },
      "outputs": [
        {
          "output_type": "stream",
          "name": "stderr",
          "text": [
            "WARNING:gensim.models.word2vec:Each 'sentences' item should be a list of words (usually unicode strings). First item here is instead plain <class 'str'>.\n"
          ]
        }
      ],
      "source": [
        "from gensim.models import Word2Vec\n",
        "\n",
        "model = Word2Vec(sentences=processedText, vector_size=100, window=5, min_count=1, sg=0)\n",
        "model.save(\"word2vec_model\")"
      ]
    },
    {
      "cell_type": "code",
      "execution_count": null,
      "metadata": {
        "id": "fJaj69bUhgHZ"
      },
      "outputs": [],
      "source": [
        "def document_vector(doc, model):\n",
        "    doc = [word for word in doc if word in model.wv.key_to_index]\n",
        "\n",
        "    if len(doc) == 0:\n",
        "        return np.zeros(model.vector_size)\n",
        "\n",
        "    return np.mean([model.wv[word] for word in doc], axis=0)\n",
        "\n",
        "textVectors = [document_vector(doc, model) for doc in processedText]"
      ]
    },
    {
      "cell_type": "code",
      "execution_count": null,
      "metadata": {
        "id": "qasBjaZ0YJW3"
      },
      "outputs": [],
      "source": [
        "texts = [ \"I feel joyful today.\", \"I am very angry now.\", \"I'm overwhelmed by sadness.\", \"I feel fear\"]\n",
        "labels = ['joy', 'anger', 'sadness', 'fear']\n",
        "label_to_index = {'joy': 0, 'anger': 1, 'sadness': 2, 'fear': 3}\n",
        "indices = [label_to_index[label] for label in labels]"
      ]
    },
    {
      "cell_type": "code",
      "execution_count": null,
      "metadata": {
        "id": "1m6BORlXYRXU"
      },
      "outputs": [],
      "source": [
        "from keras.models import Sequential\n",
        "from keras.preprocessing.text import Tokenizer\n",
        "from keras.preprocessing.sequence import pad_sequences\n",
        "from keras.utils import to_categorical\n",
        "\n",
        "tokenizer = Tokenizer()\n",
        "tokenizer.fit_on_texts(texts)\n",
        "sequences = tokenizer.texts_to_sequences(texts)\n",
        "\n",
        "maxLength = max([len(seq) for seq in sequences])\n",
        "paddedText = pad_sequences(sequences, maxlen=maxLength)\n",
        "\n",
        "one_hot_labels = to_categorical(indices)\n",
        "\n",
        "embedding_matrix = np.zeros((len(tokenizer.word_index) + 1, model.vector_size))\n",
        "for word, i in tokenizer.word_index.items():\n",
        "    if word in model.wv:\n",
        "        embedding_matrix[i] = model.wv[word]\n",
        "\n",
        "vocab_size = len(tokenizer.word_index) + 1"
      ]
    },
    {
      "cell_type": "markdown",
      "metadata": {
        "id": "bZfu7Arj7Zsm"
      },
      "source": [
        "## ***Machine Learning Models (Naive Bayes, Decision Tree, Random Forest, KNN, SVM)***"
      ]
    },
    {
      "cell_type": "code",
      "execution_count": null,
      "metadata": {
        "id": "m3cxod1reFP3"
      },
      "outputs": [],
      "source": [
        "from sklearn.model_selection import train_test_split\n",
        "from sklearn.feature_extraction.text import TfidfVectorizer\n",
        "from sklearn.utils import shuffle\n",
        "from keras.utils import to_categorical\n",
        "from sklearn.preprocessing import LabelEncoder\n",
        "\n",
        "from sklearn.naive_bayes import MultinomialNB\n",
        "from sklearn.tree import DecisionTreeClassifier\n",
        "from sklearn.ensemble import RandomForestClassifier\n",
        "from sklearn.neighbors import KNeighborsClassifier\n",
        "from sklearn.svm import SVC\n",
        "from sklearn.ensemble import VotingClassifier\n",
        "\n",
        "from sklearn.metrics import accuracy_score, classification_report\n",
        "\n",
        "vectorizer = TfidfVectorizer(max_features=5000)\n",
        "\n",
        "label_encoder = LabelEncoder()\n",
        "nb_classifier = MultinomialNB()\n",
        "tree_classifier = DecisionTreeClassifier()\n",
        "rf_classifier = RandomForestClassifier(n_estimators=100, random_state=42)\n",
        "svm_classifier = SVC(kernel='linear', probability=True, random_state=42)\n",
        "knn_classifier = KNeighborsClassifier(n_neighbors=5)\n",
        "\n",
        "voting_classifier = VotingClassifier(estimators=[('rf', rf_classifier), ('svm', svm_classifier), ('nb', nb_classifier)], voting='soft')"
      ]
    },
    {
      "cell_type": "code",
      "execution_count": null,
      "metadata": {
        "id": "Z9HOIAdXe_Yb"
      },
      "outputs": [],
      "source": [
        "X = ISEARDataset['content']\n",
        "y = ISEARDataset['sentiment']\n",
        "\n",
        "tfidf_vectorizer = TfidfVectorizer()\n",
        "X = tfidf_vectorizer.fit_transform(X)\n",
        "\n",
        "X_train, X_test, y_train, y_test = train_test_split(X, y, test_size=0.2, random_state=42)"
      ]
    },
    {
      "cell_type": "markdown",
      "metadata": {
        "id": "AzmWh5MlstoF"
      },
      "source": [
        "### **KNN Model**"
      ]
    },
    {
      "cell_type": "code",
      "execution_count": null,
      "metadata": {
        "id": "VOs15sFDs368",
        "colab": {
          "base_uri": "https://localhost:8080/"
        },
        "outputId": "84d66eb4-fe06-4700-d06d-70e1c2211cf6"
      },
      "outputs": [
        {
          "output_type": "stream",
          "name": "stdout",
          "text": [
            "Accuracy: 0.5946516537649542\n",
            "Classification Report:\n",
            "               precision    recall  f1-score   support\n",
            "\n",
            "       anger       0.57      0.66      0.61       375\n",
            "        fear       0.58      0.67      0.62       434\n",
            "         joy       0.67      0.57      0.62       319\n",
            "     sadness       0.59      0.42      0.49       293\n",
            "\n",
            "    accuracy                           0.59      1421\n",
            "   macro avg       0.60      0.58      0.59      1421\n",
            "weighted avg       0.60      0.59      0.59      1421\n",
            "\n"
          ]
        }
      ],
      "source": [
        "knn_classifier.fit(X_train, y_train)\n",
        "\n",
        "y_pred = knn_classifier.predict(X_test)\n",
        "\n",
        "accuracy = accuracy_score(y_test, y_pred)\n",
        "print(\"Accuracy:\", accuracy)\n",
        "\n",
        "report = classification_report(y_test, y_pred)\n",
        "print(\"Classification Report:\\n\", report)"
      ]
    },
    {
      "cell_type": "markdown",
      "metadata": {
        "id": "7Ik6KbKR7sZj"
      },
      "source": [
        "### **Decision Tree**"
      ]
    },
    {
      "cell_type": "code",
      "execution_count": null,
      "metadata": {
        "id": "sO3uzyFv8K4r",
        "colab": {
          "base_uri": "https://localhost:8080/"
        },
        "outputId": "61589d71-5447-47b6-fd79-01016ea1ee08"
      },
      "outputs": [
        {
          "output_type": "stream",
          "name": "stdout",
          "text": [
            "Accuracy: 0.8142153413089374\n",
            "Classification Report:\n",
            "               precision    recall  f1-score   support\n",
            "\n",
            "       anger       0.82      0.81      0.82       375\n",
            "        fear       0.78      0.82      0.80       434\n",
            "         joy       0.87      0.87      0.87       319\n",
            "     sadness       0.81      0.74      0.77       293\n",
            "\n",
            "    accuracy                           0.81      1421\n",
            "   macro avg       0.82      0.81      0.81      1421\n",
            "weighted avg       0.81      0.81      0.81      1421\n",
            "\n"
          ]
        }
      ],
      "source": [
        "tree_classifier.fit(X_train, y_train)\n",
        "\n",
        "y_pred = tree_classifier.predict(X_test)\n",
        "\n",
        "accuracy = accuracy_score(y_test, y_pred)\n",
        "print(f'Accuracy: {accuracy}')\n",
        "\n",
        "report = classification_report(y_test, y_pred)\n",
        "print(\"Classification Report:\\n\", report)"
      ]
    },
    {
      "cell_type": "markdown",
      "metadata": {
        "id": "24xoTFulKQ_3"
      },
      "source": [
        "### **Naive Bayes**"
      ]
    },
    {
      "cell_type": "code",
      "execution_count": null,
      "metadata": {
        "id": "elePZksgLCUe",
        "colab": {
          "base_uri": "https://localhost:8080/"
        },
        "outputId": "1305194d-d444-4dc5-d68d-8dabf9ad3e25"
      },
      "outputs": [
        {
          "output_type": "stream",
          "name": "stdout",
          "text": [
            "Accuracy: 0.6783954961294862\n",
            "Classification Report:\n",
            "               precision    recall  f1-score   support\n",
            "\n",
            "       anger       0.89      0.62      0.73       375\n",
            "        fear       0.51      0.98      0.67       434\n",
            "         joy       0.97      0.63      0.77       319\n",
            "     sadness       0.86      0.37      0.51       293\n",
            "\n",
            "    accuracy                           0.68      1421\n",
            "   macro avg       0.81      0.65      0.67      1421\n",
            "weighted avg       0.78      0.68      0.67      1421\n",
            "\n"
          ]
        }
      ],
      "source": [
        "nb_classifier.fit(X_train, y_train)\n",
        "\n",
        "y_pred = nb_classifier.predict(X_test)\n",
        "\n",
        "accuracy = accuracy_score(y_test, y_pred)\n",
        "print(f'Accuracy: {accuracy}')\n",
        "\n",
        "report = classification_report(y_test, y_pred)\n",
        "print(\"Classification Report:\\n\", report)"
      ]
    },
    {
      "cell_type": "markdown",
      "metadata": {
        "id": "iLE1iy2-8F4N"
      },
      "source": [
        "### **Random Forest**"
      ]
    },
    {
      "cell_type": "code",
      "execution_count": null,
      "metadata": {
        "id": "8TU1YEQJGdWd",
        "colab": {
          "base_uri": "https://localhost:8080/"
        },
        "outputId": "e6dd8a20-455d-42c5-f609-69289a1cf7ed"
      },
      "outputs": [
        {
          "output_type": "stream",
          "name": "stdout",
          "text": [
            "Accuracy: 0.8550316678395496\n",
            "Classification Report:\n",
            "               precision    recall  f1-score   support\n",
            "\n",
            "       anger       0.92      0.81      0.86       375\n",
            "        fear       0.76      0.95      0.84       434\n",
            "         joy       0.96      0.90      0.93       319\n",
            "     sadness       0.87      0.72      0.79       293\n",
            "\n",
            "    accuracy                           0.86      1421\n",
            "   macro avg       0.87      0.85      0.85      1421\n",
            "weighted avg       0.87      0.86      0.85      1421\n",
            "\n"
          ]
        }
      ],
      "source": [
        "rf_classifier.fit(X_train, y_train)\n",
        "\n",
        "y_pred = rf_classifier.predict(X_test)\n",
        "\n",
        "accuracy = accuracy_score(y_test, y_pred)\n",
        "print(f'Accuracy: {accuracy}')\n",
        "\n",
        "report = classification_report(y_test, y_pred)\n",
        "print(\"Classification Report:\\n\", report)"
      ]
    },
    {
      "cell_type": "markdown",
      "metadata": {
        "id": "CzPgGmbTJ-Tg"
      },
      "source": [
        "### **Support Vector Machine (SVM) Model**\n",
        "\n"
      ]
    },
    {
      "cell_type": "code",
      "execution_count": null,
      "metadata": {
        "id": "ub9C1LfAFhQA",
        "colab": {
          "base_uri": "https://localhost:8080/"
        },
        "outputId": "b817ff66-4570-45cc-f62c-65e84df8a0e0"
      },
      "outputs": [
        {
          "output_type": "stream",
          "name": "stdout",
          "text": [
            "Accuracy: 0.8733286418015482\n",
            "Classification Report:\n",
            "               precision    recall  f1-score   support\n",
            "\n",
            "       anger       0.91      0.85      0.88       375\n",
            "        fear       0.82      0.94      0.87       434\n",
            "         joy       0.95      0.90      0.92       319\n",
            "     sadness       0.85      0.78      0.81       293\n",
            "\n",
            "    accuracy                           0.87      1421\n",
            "   macro avg       0.88      0.87      0.87      1421\n",
            "weighted avg       0.88      0.87      0.87      1421\n",
            "\n"
          ]
        }
      ],
      "source": [
        "svm_classifier.fit(X_train, y_train)\n",
        "\n",
        "y_pred = svm_classifier.predict(X_test)\n",
        "\n",
        "accuracy = accuracy_score(y_test, y_pred)\n",
        "print(f'Accuracy: {accuracy}')\n",
        "\n",
        "report = classification_report(y_test, y_pred)\n",
        "print(\"Classification Report:\\n\", report)"
      ]
    },
    {
      "cell_type": "markdown",
      "metadata": {
        "id": "tmaTbzv_fMlL"
      },
      "source": [
        "## ***Deep Learning Models (CNN, LSTM, BiLSTM, CNN-LSTM, CNN-BiLSTM)***"
      ]
    },
    {
      "cell_type": "code",
      "execution_count": null,
      "metadata": {
        "id": "EovTMscfZoOs"
      },
      "outputs": [],
      "source": [
        "from keras.layers import Embedding, Conv1D, GlobalMaxPooling1D, Dense, LSTM, Bidirectional, Reshape, Flatten"
      ]
    },
    {
      "cell_type": "markdown",
      "metadata": {
        "id": "wc-rmSELr0Ya"
      },
      "source": [
        "### **CNN**"
      ]
    },
    {
      "cell_type": "code",
      "execution_count": null,
      "metadata": {
        "id": "nhI3do93r2eB"
      },
      "outputs": [],
      "source": [
        "model = Sequential()\n",
        "model.add(Embedding(input_dim=vocab_size, output_dim=100, weights=[embedding_matrix], input_length=maxLength, trainable=False))\n",
        "model.add(Conv1D(128, 5, activation='relu'))\n",
        "model.add(GlobalMaxPooling1D())\n",
        "model.add(Dense(len(label_to_index), activation='softmax'))\n",
        "model.compile(optimizer='adam', loss='categorical_crossentropy', metrics=['accuracy'])"
      ]
    },
    {
      "cell_type": "code",
      "execution_count": null,
      "metadata": {
        "id": "sG-hWAE3sHO8",
        "colab": {
          "base_uri": "https://localhost:8080/"
        },
        "outputId": "43d49a26-2f06-4ecb-ce0e-218b7a55ed73"
      },
      "outputs": [
        {
          "output_type": "stream",
          "name": "stdout",
          "text": [
            "1/1 [==============================] - 1s 855ms/step - loss: 1.3840 - accuracy: 0.2500\n",
            "1/1 [==============================] - 0s 104ms/step\n",
            "Accuracy: 0.5\n",
            "Classification Report:\n",
            "               precision    recall  f1-score   support\n",
            "\n",
            "       anger       0.91      0.85      0.88       375\n",
            "        fear       0.82      0.94      0.87       434\n",
            "         joy       0.95      0.90      0.92       319\n",
            "     sadness       0.85      0.78      0.81       293\n",
            "\n",
            "    accuracy                           0.87      1421\n",
            "   macro avg       0.88      0.87      0.87      1421\n",
            "weighted avg       0.88      0.87      0.87      1421\n",
            "\n"
          ]
        }
      ],
      "source": [
        "model.fit(paddedText, one_hot_labels, epochs=1)\n",
        "predictions = model.predict(paddedText)\n",
        "predicted_labels = np.argmax(predictions, axis=1)\n",
        "true_labels = np.argmax(one_hot_labels, axis=1)\n",
        "from sklearn.metrics import accuracy_score\n",
        "accuracy = accuracy_score(true_labels, predicted_labels)\n",
        "print(\"Accuracy:\", accuracy)\n",
        "report = classification_report(y_test, y_pred)\n",
        "print(\"Classification Report:\\n\", report)"
      ]
    },
    {
      "cell_type": "markdown",
      "metadata": {
        "id": "0Vh9gj7ttxSC"
      },
      "source": [
        "### **LSTM**\n"
      ]
    },
    {
      "cell_type": "code",
      "execution_count": null,
      "metadata": {
        "id": "GgZPZQPuty0_"
      },
      "outputs": [],
      "source": [
        "model = Sequential()\n",
        "model.add(Embedding(input_dim=vocab_size, output_dim=100, weights=[embedding_matrix], input_length=maxLength, trainable=False))\n",
        "model.add(LSTM(64))\n",
        "model.add(Dense(len(label_to_index), activation='softmax'))\n",
        "model.compile(optimizer='adam', loss='categorical_crossentropy', metrics=['accuracy'])"
      ]
    },
    {
      "cell_type": "code",
      "execution_count": null,
      "metadata": {
        "id": "UMs4_lDouBjT",
        "colab": {
          "base_uri": "https://localhost:8080/"
        },
        "outputId": "472542f9-c533-4fd3-8995-891345592860"
      },
      "outputs": [
        {
          "output_type": "stream",
          "name": "stdout",
          "text": [
            "1/1 [==============================] - 3s 3s/step - loss: 1.3865 - accuracy: 0.2500\n",
            "1/1 [==============================] - 1s 695ms/step\n",
            "Accuracy: 0.25\n",
            "Classification Report:\n",
            "               precision    recall  f1-score   support\n",
            "\n",
            "       anger       0.91      0.85      0.88       375\n",
            "        fear       0.82      0.94      0.87       434\n",
            "         joy       0.95      0.90      0.92       319\n",
            "     sadness       0.85      0.78      0.81       293\n",
            "\n",
            "    accuracy                           0.87      1421\n",
            "   macro avg       0.88      0.87      0.87      1421\n",
            "weighted avg       0.88      0.87      0.87      1421\n",
            "\n"
          ]
        }
      ],
      "source": [
        "model.fit(paddedText, one_hot_labels, epochs=1)\n",
        "predictions = model.predict(paddedText)\n",
        "predicted_labels = np.argmax(predictions, axis=1)\n",
        "true_labels = np.argmax(one_hot_labels, axis=1)\n",
        "from sklearn.metrics import accuracy_score\n",
        "accuracy = accuracy_score(true_labels, predicted_labels)\n",
        "print(\"Accuracy:\", accuracy)\n",
        "report = classification_report(y_test, y_pred)\n",
        "print(\"Classification Report:\\n\", report)"
      ]
    },
    {
      "cell_type": "markdown",
      "metadata": {
        "id": "cujzcQRYurOs"
      },
      "source": [
        "### **BiLSTM**"
      ]
    },
    {
      "cell_type": "code",
      "execution_count": null,
      "metadata": {
        "id": "y3EsLW4VuvZE"
      },
      "outputs": [],
      "source": [
        "model = Sequential()\n",
        "model.add(Embedding(input_dim=vocab_size, output_dim=100, weights=[embedding_matrix], input_length=maxLength, trainable=False))\n",
        "model.add(Bidirectional(LSTM(64)))\n",
        "model.add(Dense(len(label_to_index), activation='softmax'))\n",
        "model.compile(optimizer='adam', loss='categorical_crossentropy', metrics=['accuracy'])"
      ]
    },
    {
      "cell_type": "code",
      "execution_count": null,
      "metadata": {
        "id": "h5mm_EXpu2sy",
        "colab": {
          "base_uri": "https://localhost:8080/"
        },
        "outputId": "da76027d-2a0a-4db6-91b9-39f034c49a22"
      },
      "outputs": [
        {
          "output_type": "stream",
          "name": "stdout",
          "text": [
            "1/1 [==============================] - 4s 4s/step - loss: 1.3950 - accuracy: 0.0000e+00\n",
            "1/1 [==============================] - 1s 838ms/step\n",
            "Accuracy: 0.0\n",
            "Classification Report:\n",
            "               precision    recall  f1-score   support\n",
            "\n",
            "       anger       0.91      0.85      0.88       375\n",
            "        fear       0.82      0.94      0.87       434\n",
            "         joy       0.95      0.90      0.92       319\n",
            "     sadness       0.85      0.78      0.81       293\n",
            "\n",
            "    accuracy                           0.87      1421\n",
            "   macro avg       0.88      0.87      0.87      1421\n",
            "weighted avg       0.88      0.87      0.87      1421\n",
            "\n"
          ]
        }
      ],
      "source": [
        "model.fit(paddedText, one_hot_labels, epochs=1)\n",
        "predictions = model.predict(paddedText)\n",
        "predicted_labels = np.argmax(predictions, axis=1)\n",
        "true_labels = np.argmax(one_hot_labels, axis=1)\n",
        "from sklearn.metrics import accuracy_score\n",
        "accuracy = accuracy_score(true_labels, predicted_labels)\n",
        "print(\"Accuracy:\", accuracy)\n",
        "report = classification_report(y_test, y_pred)\n",
        "print(\"Classification Report:\\n\", report)"
      ]
    },
    {
      "cell_type": "markdown",
      "metadata": {
        "id": "PQX0odHFsbwQ"
      },
      "source": [
        "### **CNN-LSTM**"
      ]
    },
    {
      "cell_type": "code",
      "source": [
        "from tensorflow.keras.models import Sequential\n",
        "from tensorflow.keras.layers import Embedding, Conv1D, LSTM, Dense, TimeDistributed\n",
        "\n",
        "model = Sequential()\n",
        "model.add(Embedding(input_dim=vocab_size, output_dim=100, weights=[embedding_matrix], input_length=maxLength, trainable=False))\n",
        "model.add(Conv1D(128, 5, activation='relu'))\n",
        "model.add(TimeDistributed(Flatten()))\n",
        "model.add(LSTM(64, return_sequences=True))\n",
        "model.add(LSTM(64))\n",
        "model.add(Dense(len(label_to_index), activation='softmax'))\n",
        "model.compile(optimizer='adam', loss='categorical_crossentropy', metrics=['accuracy'])\n",
        "\n",
        "model.fit(paddedText, one_hot_labels, epochs=1)\n",
        "predictions = model.predict(paddedText)\n",
        "predicted_labels = np.argmax(predictions, axis=1)\n",
        "true_labels = np.argmax(one_hot_labels, axis=1)\n",
        "from sklearn.metrics import accuracy_score\n",
        "accuracy = accuracy_score(true_labels, predicted_labels)\n",
        "print(\"Accuracy:\", accuracy)\n",
        "report = classification_report(y_test, y_pred)\n",
        "print(\"Classification Report:\\n\", report)"
      ],
      "metadata": {
        "id": "eey96zijxetn",
        "colab": {
          "base_uri": "https://localhost:8080/"
        },
        "outputId": "6ef1b14a-11f4-4ad1-965e-e0e36c54ecb5"
      },
      "execution_count": null,
      "outputs": [
        {
          "output_type": "stream",
          "name": "stdout",
          "text": [
            "1/1 [==============================] - 5s 5s/step - loss: 1.3859 - accuracy: 0.2500\n",
            "1/1 [==============================] - 1s 1s/step\n",
            "Accuracy: 0.5\n",
            "Classification Report:\n",
            "               precision    recall  f1-score   support\n",
            "\n",
            "       anger       0.91      0.85      0.88       375\n",
            "        fear       0.82      0.94      0.87       434\n",
            "         joy       0.95      0.90      0.92       319\n",
            "     sadness       0.85      0.78      0.81       293\n",
            "\n",
            "    accuracy                           0.87      1421\n",
            "   macro avg       0.88      0.87      0.87      1421\n",
            "weighted avg       0.88      0.87      0.87      1421\n",
            "\n"
          ]
        }
      ]
    },
    {
      "cell_type": "code",
      "source": [
        "from tensorflow.keras.models import Sequential\n",
        "from tensorflow.keras.layers import Embedding, Conv1D, LSTM, Dense, TimeDistributed, Dropout\n",
        "from sklearn.metrics import accuracy_score\n",
        "\n",
        "model = Sequential()\n",
        "model.add(Embedding(input_dim=vocab_size, output_dim=100, weights=[embedding_matrix], input_length=maxLength, trainable=False))\n",
        "model.add(Conv1D(128, 5, activation='relu'))\n",
        "model.add(TimeDistributed(Flatten()))\n",
        "model.add(Dropout(0.25))\n",
        "model.add(LSTM(64, return_sequences=True))\n",
        "model.add(Dropout(0.25))\n",
        "model.add(LSTM(64))\n",
        "model.add(Dense(len(label_to_index), activation='softmax'))\n",
        "model.compile(optimizer='adam', loss='categorical_crossentropy', metrics=['accuracy'])\n",
        "\n",
        "model.fit(paddedText, one_hot_labels, epochs=1)\n",
        "predictions = model.predict(paddedText)\n",
        "predicted_labels = np.argmax(predictions, axis=1)\n",
        "true_labels = np.argmax(one_hot_labels, axis=1)\n",
        "accuracy = accuracy_score(true_labels, predicted_labels)\n",
        "print(\"Accuracy:\", accuracy)\n",
        "\n",
        "report = classification_report(y_test, y_pred)\n",
        "print(\"Classification Report:\\n\", report)"
      ],
      "metadata": {
        "id": "n9oPTgdHyYNF",
        "colab": {
          "base_uri": "https://localhost:8080/"
        },
        "outputId": "42df11dd-10c3-4ac7-b52c-8dc7906e71bd"
      },
      "execution_count": null,
      "outputs": [
        {
          "output_type": "stream",
          "name": "stderr",
          "text": [
            "WARNING:tensorflow:5 out of the last 5 calls to <function Model.make_train_function.<locals>.train_function at 0x7f45478464d0> triggered tf.function retracing. Tracing is expensive and the excessive number of tracings could be due to (1) creating @tf.function repeatedly in a loop, (2) passing tensors with different shapes, (3) passing Python objects instead of tensors. For (1), please define your @tf.function outside of the loop. For (2), @tf.function has reduce_retracing=True option that can avoid unnecessary retracing. For (3), please refer to https://www.tensorflow.org/guide/function#controlling_retracing and https://www.tensorflow.org/api_docs/python/tf/function for  more details.\n"
          ]
        },
        {
          "output_type": "stream",
          "name": "stdout",
          "text": [
            "1/1 [==============================] - 5s 5s/step - loss: 1.3866 - accuracy: 0.0000e+00\n"
          ]
        },
        {
          "output_type": "stream",
          "name": "stderr",
          "text": [
            "WARNING:tensorflow:5 out of the last 5 calls to <function Model.make_predict_function.<locals>.predict_function at 0x7f45461a2440> triggered tf.function retracing. Tracing is expensive and the excessive number of tracings could be due to (1) creating @tf.function repeatedly in a loop, (2) passing tensors with different shapes, (3) passing Python objects instead of tensors. For (1), please define your @tf.function outside of the loop. For (2), @tf.function has reduce_retracing=True option that can avoid unnecessary retracing. For (3), please refer to https://www.tensorflow.org/guide/function#controlling_retracing and https://www.tensorflow.org/api_docs/python/tf/function for  more details.\n"
          ]
        },
        {
          "output_type": "stream",
          "name": "stdout",
          "text": [
            "1/1 [==============================] - 1s 962ms/step\n",
            "Accuracy: 0.75\n",
            "Classification Report:\n",
            "               precision    recall  f1-score   support\n",
            "\n",
            "       anger       0.91      0.85      0.88       375\n",
            "        fear       0.82      0.94      0.87       434\n",
            "         joy       0.95      0.90      0.92       319\n",
            "     sadness       0.85      0.78      0.81       293\n",
            "\n",
            "    accuracy                           0.87      1421\n",
            "   macro avg       0.88      0.87      0.87      1421\n",
            "weighted avg       0.88      0.87      0.87      1421\n",
            "\n"
          ]
        }
      ]
    },
    {
      "cell_type": "markdown",
      "metadata": {
        "id": "94zVeADcq4gr"
      },
      "source": [
        "### **CNN-BiLSTM**"
      ]
    },
    {
      "cell_type": "code",
      "source": [
        "from tensorflow.keras.models import Sequential\n",
        "from tensorflow.keras.layers import Embedding, Conv1D, GlobalMaxPooling1D, Flatten, Reshape, Bidirectional, LSTM, Dense\n",
        "\n",
        "model = Sequential()\n",
        "model.add(Embedding(input_dim=vocab_size, output_dim=100, weights=[embedding_matrix], input_length=maxLength, trainable=False))\n",
        "model.add(Conv1D(128, 5, activation='relu', input_shape=(maxLength, 100)))\n",
        "model.add(Bidirectional(LSTM(64, return_sequences=False)))\n",
        "model.add(Dense(len(label_to_index), activation='softmax'))\n",
        "model.compile(optimizer='adam', loss='categorical_crossentropy', metrics=['accuracy'])\n",
        "\n",
        "model.fit(paddedText, one_hot_labels, epochs=1)\n",
        "predictions = model.predict(paddedText)\n",
        "predicted_labels = np.argmax(predictions, axis=1)\n",
        "true_labels = np.argmax(one_hot_labels, axis=1)\n",
        "from sklearn.metrics import accuracy_score\n",
        "accuracy = accuracy_score(true_labels, predicted_labels)\n",
        "print(\"Accuracy:\", accuracy)\n",
        "\n",
        "report = classification_report(y_test, y_pred)\n",
        "print(\"Classification Report:\\n\", report)"
      ],
      "metadata": {
        "id": "4H-Qo0tAxP3A",
        "colab": {
          "base_uri": "https://localhost:8080/"
        },
        "outputId": "7cdb8424-28cf-458f-c0c7-d4b674e4cefc"
      },
      "execution_count": null,
      "outputs": [
        {
          "output_type": "stream",
          "name": "stderr",
          "text": [
            "WARNING:tensorflow:6 out of the last 6 calls to <function Model.make_train_function.<locals>.train_function at 0x7f4545c66320> triggered tf.function retracing. Tracing is expensive and the excessive number of tracings could be due to (1) creating @tf.function repeatedly in a loop, (2) passing tensors with different shapes, (3) passing Python objects instead of tensors. For (1), please define your @tf.function outside of the loop. For (2), @tf.function has reduce_retracing=True option that can avoid unnecessary retracing. For (3), please refer to https://www.tensorflow.org/guide/function#controlling_retracing and https://www.tensorflow.org/api_docs/python/tf/function for  more details.\n"
          ]
        },
        {
          "output_type": "stream",
          "name": "stdout",
          "text": [
            "1/1 [==============================] - 6s 6s/step - loss: 1.3908 - accuracy: 0.2500\n"
          ]
        },
        {
          "output_type": "stream",
          "name": "stderr",
          "text": [
            "WARNING:tensorflow:6 out of the last 6 calls to <function Model.make_predict_function.<locals>.predict_function at 0x7f4545c66830> triggered tf.function retracing. Tracing is expensive and the excessive number of tracings could be due to (1) creating @tf.function repeatedly in a loop, (2) passing tensors with different shapes, (3) passing Python objects instead of tensors. For (1), please define your @tf.function outside of the loop. For (2), @tf.function has reduce_retracing=True option that can avoid unnecessary retracing. For (3), please refer to https://www.tensorflow.org/guide/function#controlling_retracing and https://www.tensorflow.org/api_docs/python/tf/function for  more details.\n"
          ]
        },
        {
          "output_type": "stream",
          "name": "stdout",
          "text": [
            "1/1 [==============================] - 1s 910ms/step\n",
            "Accuracy: 0.5\n",
            "Classification Report:\n",
            "               precision    recall  f1-score   support\n",
            "\n",
            "       anger       0.91      0.85      0.88       375\n",
            "        fear       0.82      0.94      0.87       434\n",
            "         joy       0.95      0.90      0.92       319\n",
            "     sadness       0.85      0.78      0.81       293\n",
            "\n",
            "    accuracy                           0.87      1421\n",
            "   macro avg       0.88      0.87      0.87      1421\n",
            "weighted avg       0.88      0.87      0.87      1421\n",
            "\n"
          ]
        }
      ]
    },
    {
      "cell_type": "markdown",
      "metadata": {
        "id": "sU4tFReJqSzl"
      },
      "source": [
        "## ***Ensemble Model***"
      ]
    },
    {
      "cell_type": "code",
      "execution_count": null,
      "metadata": {
        "id": "jcV3YdCUrJ78",
        "colab": {
          "base_uri": "https://localhost:8080/"
        },
        "outputId": "08d9f4bc-e9a9-4524-8921-c8e84ae8457a"
      },
      "outputs": [
        {
          "output_type": "stream",
          "name": "stdout",
          "text": [
            "Accuracy: 0.884588318085855\n",
            "Classification Report:\n",
            "               precision    recall  f1-score   support\n",
            "\n",
            "       anger       0.93      0.86      0.89       375\n",
            "        fear       0.82      0.95      0.88       434\n",
            "         joy       0.96      0.92      0.94       319\n",
            "     sadness       0.85      0.78      0.82       293\n",
            "\n",
            "    accuracy                           0.88      1421\n",
            "   macro avg       0.89      0.88      0.88      1421\n",
            "weighted avg       0.89      0.88      0.88      1421\n",
            "\n"
          ]
        }
      ],
      "source": [
        "voting_classifier.fit(X_train, y_train)\n",
        "\n",
        "y_pred = voting_classifier.predict(X_test)\n",
        "\n",
        "accuracy = accuracy_score(y_test, y_pred)\n",
        "print(\"Accuracy:\", accuracy)\n",
        "report = classification_report(y_test, y_pred)\n",
        "print(\"Classification Report:\\n\", report)"
      ]
    },
    {
      "cell_type": "code",
      "source": [
        "import matplotlib.pyplot as plt\n",
        "\n",
        "model_names = ['CNN','LSTM', 'BiLSTM', 'CNN-LSTM', 'CNN-BiLSTM', 'Naive Bayes', 'Decision Tree','Random Forest','Support Vector Machine','KNN', 'Ensemble']\n",
        "accuracies = [0.50, 0.25, 0.25, 0.75, 0.75, 0.67, 0.81, 0.85, 0.87, 0.63, 0.88]\n",
        "\n",
        "colors = ['skyblue'] * 5 + ['salmon'] * 5 + ['orchid']\n",
        "\n",
        "plt.figure(figsize=(14, 6))\n",
        "bars = plt.bar(model_names, accuracies, color=colors)\n",
        "plt.xlabel('Model')\n",
        "plt.ylabel('Accuracy')\n",
        "plt.title('Model Accuracies for ISEAR Dataset')\n",
        "\n",
        "legend_labels = ['Ensemble Model', 'DL Models', 'ML Models']\n",
        "plt.legend(handles=[plt.Rectangle((0,0),1,1, color=color) for color in set(colors)], labels=legend_labels)\n",
        "\n",
        "plt.ylim(0, 1)\n",
        "plt.xticks(rotation=45)\n",
        "plt.show()"
      ],
      "metadata": {
        "colab": {
          "base_uri": "https://localhost:8080/",
          "height": 677
        },
        "id": "CXRGbc9vcN7D",
        "outputId": "d525b97f-2bdf-44d9-bb56-11de77cc61ea"
      },
      "execution_count": null,
      "outputs": [
        {
          "output_type": "display_data",
          "data": {
            "text/plain": [
              "<Figure size 1400x600 with 1 Axes>"
            ],
            "image/png": "[encoded data removed]"
          },
          "metadata": {}
        }
      ]
    }
  ]
}
{
  "nbformat": 4,
  "nbformat_minor": 0,
  "metadata": {
    "colab": {
      "provenance": [],
      "include_colab_link": true
    },
    "kernelspec": {
      "name": "python3",
      "display_name": "Python 3"
    },
    "language_info": {
      "name": "python"
    }
  },
  "cells": [
    {
      "cell_type": "markdown",
      "metadata": {
        "id": "view-in-github",
        "colab_type": "text"
      },
      "source": [
        "<a href=\"https://colab.research.google.com/github/shreyagupta2405/EmotionDetection/blob/main/CK%2B.ipynb\" target=\"_parent\"><img src=\"https://colab.research.google.com/assets/colab-badge.svg\" alt=\"Open In Colab\"/></a>"
      ]
    },
    {
      "cell_type": "code",
      "execution_count": null,
      "metadata": {
        "id": "GwxVokpNckjW"
      },
      "outputs": [],
      "source": [
        "import pandas as pd\n",
        "import numpy as np\n",
        "import os\n",
        "import cv2\n",
        "import zipfile\n",
        "from PIL import Image\n",
        "from pathlib import Path\n",
        "\n",
        "zip_file_path = '/content/CK+ Dataset.zip'\n",
        "extracted_path = '/content/CK+ dataset'\n",
        "Path(extracted_path).mkdir(parents=True, exist_ok=True)\n",
        "with zipfile.ZipFile(zip_file_path, 'r') as zip_ref:\n",
        "    zip_ref.extractall(extracted_path)\n",
        "data_dir_list = os.listdir(extracted_path)\n",
        "\n",
        "img_data_list = []\n",
        "labels_list = []\n",
        "\n",
        "for idx, dataset in enumerate(data_dir_list):\n",
        "    img_list = os.listdir(os.path.join(extracted_path, dataset))\n",
        "    min_images = min(len(img_list), len(os.listdir(os.path.join(extracted_path, data_dir_list[0]))))\n",
        "\n",
        "    for i in range(min_images):\n",
        "        img = img_list[i]\n",
        "        input_img = cv2.imread(os.path.join(extracted_path, dataset, img))\n",
        "        input_img_resize = cv2.resize(input_img, (48, 48))\n",
        "        img_data_list.append(input_img_resize)\n",
        "        labels_list.append(idx)\n",
        "\n",
        "CKData = np.array(img_data_list, dtype='float32') / 255.0\n",
        "CKDatalabels = np.array(labels_list)\n",
        "num_classes = 7"
      ]
    },
    {
      "cell_type": "code",
      "source": [
        "from sklearn.model_selection import train_test_split\n",
        "from sklearn.feature_extraction.text import TfidfVectorizer\n",
        "from sklearn.utils import shuffle\n",
        "from keras.utils import to_categorical\n",
        "from sklearn.preprocessing import LabelEncoder\n",
        "\n",
        "from sklearn.naive_bayes import MultinomialNB\n",
        "from sklearn.tree import DecisionTreeClassifier\n",
        "from sklearn.ensemble import RandomForestClassifier\n",
        "from sklearn.neighbors import KNeighborsClassifier\n",
        "from sklearn.svm import SVC\n",
        "from sklearn.ensemble import VotingClassifier\n",
        "\n",
        "from sklearn.metrics import accuracy_score, classification_report\n",
        "\n",
        "vectorizer = TfidfVectorizer(max_features=5000)\n",
        "\n",
        "label_encoder = LabelEncoder()\n",
        "nb_classifier = MultinomialNB()\n",
        "tree_classifier = DecisionTreeClassifier()\n",
        "rf_classifier = RandomForestClassifier(n_estimators=100, random_state=42)\n",
        "svm_classifier = SVC(kernel='linear', probability=True, random_state=42)\n",
        "knn_classifier = KNeighborsClassifier(n_neighbors=5)\n",
        "\n",
        "voting_classifier = VotingClassifier(estimators=[('rf', rf_classifier), ('svm', svm_classifier), ('nb', nb_classifier)], voting='soft')"
      ],
      "metadata": {
        "id": "Rbub2xfgkdsv"
      },
      "execution_count": null,
      "outputs": []
    },
    {
      "cell_type": "code",
      "source": [
        "import tensorflow as tf\n",
        "from tensorflow.keras import layers, models, optimizers\n",
        "from sklearn.preprocessing import LabelEncoder, LabelBinarizer\n",
        "\n",
        "from sklearn.utils import shuffle\n",
        "\n",
        "labels = np.array(labels_list)\n",
        "Y = to_categorical(CKDatalabels)\n",
        "x, y = shuffle(CKData, Y, random_state=2)\n",
        "\n",
        "X_train, X_test, y_train, y_test = train_test_split(x, y, test_size=0.2, random_state=2)"
      ],
      "metadata": {
        "id": "-Syj1m-ekljD"
      },
      "execution_count": null,
      "outputs": []
    },
    {
      "cell_type": "code",
      "source": [
        "model = models.Sequential()\n",
        "model.add(layers.Conv2D(32, (3, 3), activation='relu', input_shape=(48, 48, 3)))\n",
        "model.add(layers.MaxPooling2D((2, 2)))\n",
        "model.add(layers.Conv2D(64, (3, 3), activation='relu'))\n",
        "model.add(layers.MaxPooling2D((2, 2)))\n",
        "model.add(layers.Conv2D(128, (3, 3), activation='relu'))\n",
        "model.add(layers.MaxPooling2D((2, 2)))\n",
        "model.add(layers.Flatten())\n",
        "model.add(layers.Dense(128, activation='relu'))\n",
        "model.add(layers.Dense(7, activation='softmax'))\n",
        "\n",
        "model.compile(optimizer='adam', loss='categorical_crossentropy', metrics=['accuracy'])\n",
        "\n",
        "history = model.fit(X_train, y_train, epochs=10, batch_size=32, validation_data=(X_test, y_test))\n"
      ],
      "metadata": {
        "colab": {
          "base_uri": "https://localhost:8080/"
        },
        "id": "A2m_PseZnhGu",
        "outputId": "c7d3fc6b-755d-41a6-f752-8d3ddff5dcc9"
      },
      "execution_count": null,
      "outputs": [
        {
          "output_type": "stream",
          "name": "stdout",
          "text": [
            "Epoch 1/10\n",
            "25/25 [==============================] - 5s 147ms/step - loss: 1.7865 - accuracy: 0.3406 - val_loss: 1.7351 - val_accuracy: 0.2386\n",
            "Epoch 2/10\n",
            "25/25 [==============================] - 3s 126ms/step - loss: 1.3408 - accuracy: 0.5191 - val_loss: 1.0474 - val_accuracy: 0.6447\n",
            "Epoch 3/10\n",
            "25/25 [==============================] - 3s 118ms/step - loss: 0.7638 - accuracy: 0.7270 - val_loss: 0.5662 - val_accuracy: 0.8020\n",
            "Epoch 4/10\n",
            "25/25 [==============================] - 3s 118ms/step - loss: 0.5115 - accuracy: 0.8087 - val_loss: 0.4203 - val_accuracy: 0.8528\n",
            "Epoch 5/10\n",
            "25/25 [==============================] - 4s 151ms/step - loss: 0.3135 - accuracy: 0.9145 - val_loss: 0.3137 - val_accuracy: 0.8579\n",
            "Epoch 6/10\n",
            "25/25 [==============================] - 3s 133ms/step - loss: 0.2198 - accuracy: 0.9413 - val_loss: 0.5098 - val_accuracy: 0.8376\n",
            "Epoch 7/10\n",
            "25/25 [==============================] - 3s 117ms/step - loss: 0.1889 - accuracy: 0.9503 - val_loss: 0.2089 - val_accuracy: 0.9289\n",
            "Epoch 8/10\n",
            "25/25 [==============================] - 3s 118ms/step - loss: 0.2447 - accuracy: 0.9196 - val_loss: 0.2954 - val_accuracy: 0.8832\n",
            "Epoch 9/10\n",
            "25/25 [==============================] - 4s 148ms/step - loss: 0.1235 - accuracy: 0.9732 - val_loss: 0.2806 - val_accuracy: 0.8832\n",
            "Epoch 10/10\n",
            "25/25 [==============================] - 4s 142ms/step - loss: 0.0743 - accuracy: 0.9847 - val_loss: 0.1326 - val_accuracy: 0.9442\n"
          ]
        }
      ]
    },
    {
      "cell_type": "code",
      "source": [
        "y_pred = model.predict(X_test)\n",
        "\n",
        "y_pred_labels = np.argmax(y_pred, axis=1)\n",
        "y_true_labels = np.argmax(y_test, axis=1)\n",
        "\n",
        "accuracy = accuracy_score(y_true_labels, y_pred_labels)\n",
        "print(\"Accuracy:\", accuracy)\n",
        "\n",
        "report = classification_report(y_true_labels, y_pred_labels)\n",
        "print(\"Classification Report:\\n\", report)"
      ],
      "metadata": {
        "colab": {
          "base_uri": "https://localhost:8080/"
        },
        "id": "nleLv0CWlWbr",
        "outputId": "1bfdadf8-3df2-482e-cadb-f3709efad5f5"
      },
      "execution_count": null,
      "outputs": [
        {
          "output_type": "stream",
          "name": "stdout",
          "text": [
            "7/7 [==============================] - 0s 27ms/step\n",
            "Accuracy: 0.9441624365482234\n",
            "Classification Report:\n",
            "               precision    recall  f1-score   support\n",
            "\n",
            "           0       0.96      1.00      0.98        47\n",
            "           1       0.80      0.75      0.77        16\n",
            "           2       0.81      0.81      0.81        16\n",
            "           3       1.00      1.00      1.00        30\n",
            "           4       0.86      0.86      0.86        14\n",
            "           5       0.95      0.91      0.93        23\n",
            "           6       1.00      1.00      1.00        51\n",
            "\n",
            "    accuracy                           0.94       197\n",
            "   macro avg       0.91      0.90      0.91       197\n",
            "weighted avg       0.94      0.94      0.94       197\n",
            "\n"
          ]
        }
      ]
    },
    {
      "cell_type": "code",
      "source": [
        "X_train = X_train.reshape((X_train.shape[0], -1))\n",
        "X_test = X_test.reshape((X_test.shape[0], -1))"
      ],
      "metadata": {
        "id": "st-RF5llh9ZK"
      },
      "execution_count": null,
      "outputs": []
    },
    {
      "cell_type": "code",
      "source": [
        "knn_classifier.fit(X_train, y_train)\n",
        "\n",
        "y_pred = knn_classifier.predict(X_test)\n",
        "\n",
        "accuracy = accuracy_score(y_test, y_pred)\n",
        "print(\"Accuracy:\", accuracy)\n",
        "report = classification_report(y_test.argmax(axis=1), y_pred.argmax(axis=1))\n",
        "print(\"Classification Report:\\n\", report)"
      ],
      "metadata": {
        "colab": {
          "base_uri": "https://localhost:8080/"
        },
        "id": "piH1XjcgfpYL",
        "outputId": "6f46488c-00ab-4b7a-c301-42a5e9a0f397"
      },
      "execution_count": null,
      "outputs": [
        {
          "output_type": "stream",
          "name": "stdout",
          "text": [
            "Accuracy: 0.3401015228426396\n",
            "Classification Report:\n",
            "               precision    recall  f1-score   support\n",
            "\n",
            "           0       0.42      0.85      0.56        47\n",
            "           1       0.64      0.44      0.52        16\n",
            "           2       0.14      0.06      0.09        16\n",
            "           3       0.29      0.23      0.26        30\n",
            "           4       0.08      0.07      0.08        14\n",
            "           5       0.18      0.13      0.15        23\n",
            "           6       0.67      0.39      0.49        51\n",
            "\n",
            "    accuracy                           0.40       197\n",
            "   macro avg       0.34      0.31      0.31       197\n",
            "weighted avg       0.41      0.40      0.37       197\n",
            "\n"
          ]
        }
      ]
    },
    {
      "cell_type": "code",
      "source": [
        "tree_classifier = DecisionTreeClassifier()\n",
        "tree_classifier.fit(X_train, y_train)\n",
        "\n",
        "y_pred = tree_classifier.predict(X_test)\n",
        "\n",
        "accuracy = accuracy_score(y_test, y_pred)\n",
        "print(f'Accuracy: {accuracy}')\n",
        "report = classification_report(y_test.argmax(axis=1), y_pred.argmax(axis=1))\n",
        "print(\"Classification Report:\\n\", report)"
      ],
      "metadata": {
        "colab": {
          "base_uri": "https://localhost:8080/"
        },
        "id": "6S_XJhhZhwWT",
        "outputId": "567440c0-fb40-4ce8-b074-edda170d4c13"
      },
      "execution_count": null,
      "outputs": [
        {
          "output_type": "stream",
          "name": "stdout",
          "text": [
            "Accuracy: 0.8426395939086294\n",
            "Classification Report:\n",
            "               precision    recall  f1-score   support\n",
            "\n",
            "           0       0.95      0.83      0.89        47\n",
            "           1       0.94      1.00      0.97        16\n",
            "           2       0.69      0.56      0.62        16\n",
            "           3       0.84      0.87      0.85        30\n",
            "           4       0.76      0.93      0.84        14\n",
            "           5       0.78      0.78      0.78        23\n",
            "           6       0.82      0.88      0.85        51\n",
            "\n",
            "    accuracy                           0.84       197\n",
            "   macro avg       0.83      0.84      0.83       197\n",
            "weighted avg       0.84      0.84      0.84       197\n",
            "\n"
          ]
        }
      ]
    },
    {
      "cell_type": "code",
      "source": [
        "rf_classifier = RandomForestClassifier(n_estimators=100, random_state=42)\n",
        "rf_classifier.fit(X_train, y_train)\n",
        "\n",
        "y_pred = rf_classifier.predict(X_test)\n",
        "\n",
        "accuracy = accuracy_score(y_test, y_pred)\n",
        "print(f'Accuracy: {accuracy}')\n",
        "report = classification_report(y_test.argmax(axis=1), y_pred.argmax(axis=1))\n",
        "print(\"Classification Report:\\n\", report)"
      ],
      "metadata": {
        "colab": {
          "base_uri": "https://localhost:8080/"
        },
        "id": "mQDxd3GEiHNS",
        "outputId": "aa6c9757-6fec-4b3d-951d-fdc8438bd439"
      },
      "execution_count": null,
      "outputs": [
        {
          "output_type": "stream",
          "name": "stdout",
          "text": [
            "Accuracy: 0.8781725888324873\n",
            "Classification Report:\n",
            "               precision    recall  f1-score   support\n",
            "\n",
            "           0       0.67      1.00      0.80        47\n",
            "           1       1.00      0.44      0.61        16\n",
            "           2       1.00      0.50      0.67        16\n",
            "           3       1.00      0.97      0.98        30\n",
            "           4       1.00      0.93      0.96        14\n",
            "           5       1.00      0.83      0.90        23\n",
            "           6       1.00      1.00      1.00        51\n",
            "\n",
            "    accuracy                           0.88       197\n",
            "   macro avg       0.95      0.81      0.85       197\n",
            "weighted avg       0.92      0.88      0.88       197\n",
            "\n"
          ]
        }
      ]
    },
    {
      "cell_type": "code",
      "source": [
        "from sklearn.svm import SVC\n",
        "\n",
        "X_train_flat = X_train.reshape((X_train.shape[0], -1))\n",
        "X_test_flat = X_test.reshape((X_test.shape[0], -1))\n",
        "\n",
        "y_train_1d = np.argmax(y_train, axis=1)\n",
        "\n",
        "svm_classifier = SVC(kernel='linear', probability=True, random_state=42)\n",
        "svm_classifier.fit(X_train_flat, y_train_1d)\n",
        "\n",
        "y_pred = svm_classifier.predict(X_test_flat)\n",
        "\n",
        "label_binarizer = LabelBinarizer()\n",
        "label_binarizer.fit(range(max(y_pred)+1))\n",
        "y_pred_one_hot = label_binarizer.transform(y_pred)\n",
        "\n",
        "accuracy = accuracy_score(y_test, y_pred_one_hot)\n",
        "print(f'Accuracy: {accuracy}')\n",
        "\n",
        "report = classification_report(y_test, y_pred_one_hot)\n",
        "print(\"Classification Report:\\n\", report)\n"
      ],
      "metadata": {
        "colab": {
          "base_uri": "https://localhost:8080/"
        },
        "id": "VvdIjM6iiO-l",
        "outputId": "5c761a3a-5ccb-437a-bed4-a23f064cf8ac"
      },
      "execution_count": null,
      "outputs": [
        {
          "output_type": "stream",
          "name": "stdout",
          "text": [
            "Accuracy: 0.9847715736040609\n",
            "Classification Report:\n",
            "               precision    recall  f1-score   support\n",
            "\n",
            "           0       1.00      1.00      1.00        47\n",
            "           1       0.84      1.00      0.91        16\n",
            "           2       1.00      0.81      0.90        16\n",
            "           3       1.00      1.00      1.00        30\n",
            "           4       1.00      1.00      1.00        14\n",
            "           5       1.00      1.00      1.00        23\n",
            "           6       1.00      1.00      1.00        51\n",
            "\n",
            "   micro avg       0.98      0.98      0.98       197\n",
            "   macro avg       0.98      0.97      0.97       197\n",
            "weighted avg       0.99      0.98      0.98       197\n",
            " samples avg       0.98      0.98      0.98       197\n",
            "\n"
          ]
        }
      ]
    },
    {
      "cell_type": "code",
      "source": [
        "X_train_flat = X_train.reshape((X_train.shape[0], -1))\n",
        "X_test_flat = X_test.reshape((X_test.shape[0], -1))\n",
        "\n",
        "y_train_1d = np.argmax(y_train, axis=1)\n",
        "\n",
        "nb_classifier.fit(X_train_flat, y_train_1d)\n",
        "\n",
        "y_pred = nb_classifier.predict(X_test_flat)\n",
        "\n",
        "label_binarizer = LabelBinarizer()\n",
        "label_binarizer.fit(range(max(y_pred)+1))\n",
        "y_pred_one_hot = label_binarizer.transform(y_pred)\n",
        "\n",
        "accuracy = accuracy_score(y_test, y_pred_one_hot)\n",
        "print(f'Accuracy: {accuracy}')\n",
        "\n",
        "report = classification_report(y_test, y_pred_one_hot)\n",
        "print(\"Classification Report:\\n\", report)"
      ],
      "metadata": {
        "colab": {
          "base_uri": "https://localhost:8080/"
        },
        "id": "G31c_tooecc1",
        "outputId": "fdf8cc52-d358-4e90-d88f-675cd618a291"
      },
      "execution_count": null,
      "outputs": [
        {
          "output_type": "stream",
          "name": "stdout",
          "text": [
            "Accuracy: 0.649746192893401\n",
            "Classification Report:\n",
            "               precision    recall  f1-score   support\n",
            "\n",
            "           0       0.87      0.85      0.86        47\n",
            "           1       0.40      0.62      0.49        16\n",
            "           2       0.33      0.31      0.32        16\n",
            "           3       0.61      0.73      0.67        30\n",
            "           4       0.21      0.21      0.21        14\n",
            "           5       0.58      0.30      0.40        23\n",
            "           6       0.84      0.80      0.82        51\n",
            "\n",
            "   micro avg       0.65      0.65      0.65       197\n",
            "   macro avg       0.55      0.55      0.54       197\n",
            "weighted avg       0.66      0.65      0.65       197\n",
            " samples avg       0.65      0.65      0.65       197\n",
            "\n"
          ]
        }
      ]
    },
    {
      "cell_type": "code",
      "source": [
        "X_train_flat = X_train.reshape((X_train.shape[0], -1))\n",
        "X_test_flat = X_test.reshape((X_test.shape[0], -1))\n",
        "\n",
        "y_train_1d = np.argmax(y_train, axis=1)\n",
        "\n",
        "voting_classifier.fit(X_train_flat, y_train_1d)\n",
        "\n",
        "y_pred = voting_classifier.predict(X_test)\n",
        "\n",
        "label_binarizer = LabelBinarizer()\n",
        "label_binarizer.fit(range(max(y_pred)+1))\n",
        "y_pred_one_hot = label_binarizer.transform(y_pred)\n",
        "\n",
        "accuracy = accuracy_score(y_test, y_pred_one_hot)\n",
        "print(f'Accuracy: {accuracy}')\n",
        "\n",
        "report = classification_report(y_test, y_pred_one_hot)\n",
        "print(\"Classification Report:\\n\", report)"
      ],
      "metadata": {
        "colab": {
          "base_uri": "https://localhost:8080/"
        },
        "id": "ISvZVkm7o9MJ",
        "outputId": "d7253048-63c5-4444-9370-a0c57b47e616"
      },
      "execution_count": null,
      "outputs": [
        {
          "output_type": "stream",
          "name": "stdout",
          "text": [
            "Accuracy: 0.9746192893401016\n",
            "Classification Report:\n",
            "               precision    recall  f1-score   support\n",
            "\n",
            "           0       1.00      1.00      1.00        47\n",
            "           1       1.00      0.81      0.90        16\n",
            "           2       0.83      0.94      0.88        16\n",
            "           3       0.97      1.00      0.98        30\n",
            "           4       1.00      1.00      1.00        14\n",
            "           5       1.00      0.96      0.98        23\n",
            "           6       0.98      1.00      0.99        51\n",
            "\n",
            "   micro avg       0.97      0.97      0.97       197\n",
            "   macro avg       0.97      0.96      0.96       197\n",
            "weighted avg       0.98      0.97      0.97       197\n",
            " samples avg       0.97      0.97      0.97       197\n",
            "\n"
          ]
        }
      ]
    },
    {
      "cell_type": "code",
      "source": [
        "import matplotlib.pyplot as plt\n",
        "\n",
        "model_names = ['CNN', 'Naive Bayes', 'Decision Tree','Random Forest','Support Vector Machine','KNN', 'Ensemble']\n",
        "accuracies = [0.78, 0.64, 0.78, 0.97, 0.96, 0.42, 0.97]\n",
        "\n",
        "colors = ['skyblue'] * 1 + ['salmon'] * 5 + ['orchid']\n",
        "\n",
        "plt.figure(figsize=(14, 6))\n",
        "bars = plt.bar(model_names, accuracies, color=colors)\n",
        "plt.xlabel('Model')\n",
        "plt.ylabel('Accuracy')\n",
        "plt.title('Model Accuracies for CK+ Dataset')\n",
        "\n",
        "legend_labels = ['Ensemble Model', 'DL Model', 'ML Models']\n",
        "plt.legend(handles=[plt.Rectangle((0,0),1,1, color=color) for color in set(colors)], labels=legend_labels)\n",
        "\n",
        "plt.ylim(0, 1)\n",
        "plt.xticks(rotation=45)\n",
        "plt.show()"
      ],
      "metadata": {
        "colab": {
          "base_uri": "https://localhost:8080/",
          "height": 677
        },
        "id": "Qyh6InM5bThn",
        "outputId": "92a383a5-b226-4c63-c7a6-d522941372a6"
      },
      "execution_count": null,
      "outputs": [
        {
          "output_type": "display_data",
          "data": {
            "text/plain": [
              "<Figure size 1400x600 with 1 Axes>"
            ],
            "image/png": "[encoded data removed]"
          },
          "metadata": {}
        }
      ]
    }
  ]
}